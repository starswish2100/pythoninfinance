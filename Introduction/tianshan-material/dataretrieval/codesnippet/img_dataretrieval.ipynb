{
 "cells": [
  {
   "cell_type": "code",
   "execution_count": 1,
   "metadata": {},
   "outputs": [],
   "source": [
    "import pytesseract\n",
    "from PIL import Image\n",
    "import numpy as np"
   ]
  },
  {
   "cell_type": "code",
   "execution_count": 2,
   "metadata": {},
   "outputs": [],
   "source": [
    "txt = pytesseract.image_to_string('mobilebill\\mobile.jpg')"
   ]
  },
  {
   "cell_type": "code",
   "execution_count": 4,
   "metadata": {},
   "outputs": [
    {
     "name": "stdout",
     "output_type": "stream",
     "text": [
      "TESCO\n",
      "\n",
      "wwiRELAN D7!\n",
      "\n",
      "Topping up your Meteor phone\n",
      "\n",
      "1.Dial 1741\n",
      "\n",
      "2.Wait for the prompt and then enter\n",
      "your 12 digit PIN number —\n",
      "\n",
      "3.Wait and your balance will be\n",
      "confirmed\n",
      "\n",
      "Any questions? Call us on 1905\n",
      "Terms and conditions of the\n",
      "Meteor Service applies\n",
      "\n",
      "Voucher Number\n",
      "\n",
      "616383762417\n",
      "\n",
      "Value:METEOR 20 EUR\n",
      "\n",
      "Serial Number :21906800030025\n",
      "\n",
      "   \n",
      " \n",
      " \n",
      " \n",
      "   \n",
      " \n",
      "  \n",
      "\n",
      "Check out Meteor Stuff for great\n",
      "ringtones, games, images and\n",
      "video clips. Browse for free and\n",
      "downloads from EUR1.50!\n",
      "\n",
      "Go to WAP on your phone or log into\n",
      "My Meteor at www.meteor, ie\n",
      "\n",
      "eee\n",
      "\n",
      "10:55 4475 075 9075 3298\n",
      "\f",
      "\n"
     ]
    }
   ],
   "source": [
    "print(txt)"
   ]
  },
  {
   "cell_type": "code",
   "execution_count": 5,
   "metadata": {},
   "outputs": [],
   "source": [
    "txtlines = txt.splitlines()"
   ]
  },
  {
   "cell_type": "code",
   "execution_count": 6,
   "metadata": {},
   "outputs": [],
   "source": [
    "filter_txtlines = [x for x in txtlines if x.strip() != '']"
   ]
  },
  {
   "cell_type": "code",
   "execution_count": 7,
   "metadata": {},
   "outputs": [
    {
     "name": "stdout",
     "output_type": "stream",
     "text": [
      "['TESCO', 'wwiRELAN D7!', 'Topping up your Meteor phone', '1.Dial 1741', '2.Wait for the prompt and then enter', 'your 12 digit PIN number —', '3.Wait and your balance will be', 'confirmed', 'Any questions? Call us on 1905', 'Terms and conditions of the', 'Meteor Service applies', 'Voucher Number', '616383762417', 'Value:METEOR 20 EUR', 'Serial Number :21906800030025', 'Check out Meteor Stuff for great', 'ringtones, games, images and', 'video clips. Browse for free and', 'downloads from EUR1.50!', 'Go to WAP on your phone or log into', 'My Meteor at www.meteor, ie', 'eee', '10:55 4475 075 9075 3298']\n"
     ]
    }
   ],
   "source": [
    "print(filter_txtlines)"
   ]
  },
  {
   "cell_type": "code",
   "execution_count": 39,
   "metadata": {},
   "outputs": [],
   "source": [
    "filter_txtlines = [x for x in txtlines if x.startswith('Value')]"
   ]
  },
  {
   "cell_type": "code",
   "execution_count": 47,
   "metadata": {},
   "outputs": [
    {
     "name": "stdout",
     "output_type": "stream",
     "text": [
      "['Value:METEOR 20 EUR']\n"
     ]
    }
   ],
   "source": [
    "print(filter_txtlines)"
   ]
  },
  {
   "cell_type": "code",
   "execution_count": 48,
   "metadata": {},
   "outputs": [],
   "source": [
    "expense = filter_txtlines[0]"
   ]
  },
  {
   "cell_type": "code",
   "execution_count": 51,
   "metadata": {},
   "outputs": [],
   "source": [
    "cost = expense[12:len(expense)-4].strip()"
   ]
  },
  {
   "cell_type": "code",
   "execution_count": 52,
   "metadata": {},
   "outputs": [
    {
     "name": "stdout",
     "output_type": "stream",
     "text": [
      "20\n"
     ]
    }
   ],
   "source": [
    "print(cost)"
   ]
  },
  {
   "cell_type": "code",
   "execution_count": null,
   "metadata": {},
   "outputs": [],
   "source": []
  }
 ],
 "metadata": {
  "kernelspec": {
   "display_name": "Python 3",
   "language": "python",
   "name": "python3"
  },
  "language_info": {
   "codemirror_mode": {
    "name": "ipython",
    "version": 3
   },
   "file_extension": ".py",
   "mimetype": "text/x-python",
   "name": "python",
   "nbconvert_exporter": "python",
   "pygments_lexer": "ipython3",
   "version": "3.8.5"
  }
 },
 "nbformat": 4,
 "nbformat_minor": 4
}
