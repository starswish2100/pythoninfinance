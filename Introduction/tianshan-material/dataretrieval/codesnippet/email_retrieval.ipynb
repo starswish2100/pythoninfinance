{
 "cells": [
  {
   "cell_type": "code",
   "execution_count": 94,
   "metadata": {},
   "outputs": [
    {
     "name": "stdout",
     "output_type": "stream",
     "text": [
      "Collecting imbox\n",
      "  Downloading imbox-0.9.8.tar.gz (17 kB)\n",
      "Requirement already satisfied: chardet in c:\\users\\stars\\appdata\\local\\programs\\python\\python38\\lib\\site-packages (from imbox) (3.0.4)\n",
      "Using legacy setup.py install for imbox, since package 'wheel' is not installed.\n",
      "Installing collected packages: imbox\n",
      "    Running setup.py install for imbox: started\n"
     ]
    },
    {
     "name": "stderr",
     "output_type": "stream",
     "text": [
      "WARNING: You are using pip version 20.1.1; however, version 20.2.4 is available.\n",
      "You should consider upgrading via the 'c:\\users\\stars\\appdata\\local\\programs\\python\\python38\\python.exe -m pip install --upgrade pip' command.\n"
     ]
    },
    {
     "name": "stdout",
     "output_type": "stream",
     "text": [
      "    Running setup.py install for imbox: finished with status 'done'\n",
      "Successfully installed imbox-0.9.8\n"
     ]
    }
   ],
   "source": [
    "# https://pypi.org/project/imbox/\n",
    "# !pip install imbox"
   ]
  },
  {
   "cell_type": "code",
   "execution_count": 208,
   "metadata": {},
   "outputs": [],
   "source": [
    "import imbox"
   ]
  },
  {
   "cell_type": "code",
   "execution_count": 209,
   "metadata": {},
   "outputs": [],
   "source": [
    "mails = Imbox('imap-mail.outlook.com',\n",
    "        username='starswish2100@hotmail.com',\n",
    "        password='Nanjing2021.',\n",
    "        ssl=True,\n",
    "        ssl_context=None,\n",
    "        starttls=False)"
   ]
  },
  {
   "cell_type": "code",
   "execution_count": 210,
   "metadata": {},
   "outputs": [],
   "source": [
    "# mails.folders()"
   ]
  },
  {
   "cell_type": "code",
   "execution_count": 211,
   "metadata": {},
   "outputs": [],
   "source": [
    "status, folders_with_additional_info = mails.folders()"
   ]
  },
  {
   "cell_type": "code",
   "execution_count": 212,
   "metadata": {},
   "outputs": [
    {
     "data": {
      "text/plain": [
       "[b'(\\\\HasNoChildren) \"/\" Archive',\n",
       " b'(\\\\HasNoChildren \\\\Junk) \"/\" Junk',\n",
       " b'(\\\\HasNoChildren) \"/\" Scheduled',\n",
       " b'(\\\\HasChildren) \"/\" support@digitalpioneers.ie',\n",
       " b'(\\\\HasChildren) \"/\" \"Sync Issues\"',\n",
       " b'(\\\\HasNoChildren) \"/\" \"Sync Issues/Conflicts\"',\n",
       " b'(\\\\HasNoChildren) \"/\" \"Sync Issues/Local Failures\"',\n",
       " b'(\\\\HasNoChildren) \"/\" \"Sync Issues/Server Failures\"',\n",
       " b'(\\\\HasNoChildren) \"/\" Notes',\n",
       " b'(\\\\HasNoChildren \\\\Drafts) \"/\" Drafts',\n",
       " b'(\\\\HasNoChildren) \"/\" Outbox',\n",
       " b'(\\\\HasNoChildren) \"/\" &Yj9bUA-',\n",
       " b'(\\\\HasNoChildren) \"/\" &XeVPXA-',\n",
       " b'(\\\\HasNoChildren) \"/\" &Xn9USg-',\n",
       " b'(\\\\HasNoChildren) \"/\" &eT5OpA-',\n",
       " b'(\\\\Marked \\\\HasNoChildren) \"/\" Inbox',\n",
       " b'(\\\\HasNoChildren \\\\Sent) \"/\" Sent',\n",
       " b'(\\\\HasNoChildren \\\\Trash) \"/\" Deleted']"
      ]
     },
     "execution_count": 212,
     "metadata": {},
     "output_type": "execute_result"
    }
   ],
   "source": [
    "folders_with_additional_info"
   ]
  },
  {
   "cell_type": "code",
   "execution_count": 213,
   "metadata": {},
   "outputs": [
    {
     "data": {
      "text/plain": [
       "Messages(ALL)"
      ]
     },
     "execution_count": 213,
     "metadata": {},
     "output_type": "execute_result"
    }
   ],
   "source": [
    " # Gets all messages from the inbox\n",
    "all_inbox_messages = mails.messages()\n",
    "all_inbox_messages"
   ]
  },
  {
   "cell_type": "code",
   "execution_count": 214,
   "metadata": {},
   "outputs": [
    {
     "data": {
      "text/plain": [
       "Messages(unread=True)"
      ]
     },
     "execution_count": 214,
     "metadata": {},
     "output_type": "execute_result"
    }
   ],
   "source": [
    "# Unread messages\n",
    "unread_inbox_messages = mails.messages(unread=True)\n",
    "unread_inbox_messages"
   ]
  },
  {
   "cell_type": "code",
   "execution_count": 215,
   "metadata": {},
   "outputs": [],
   "source": [
    "uid = all_inbox_messages[-1][0]\n",
    "rawmail = all_inbox_messages[-1][1]"
   ]
  },
  {
   "cell_type": "code",
   "execution_count": 216,
   "metadata": {},
   "outputs": [
    {
     "name": "stdout",
     "output_type": "stream",
     "text": [
      "dict_keys(['raw_email', 'attachments', 'body', 'sent_from', 'sent_to', 'cc', 'bcc', 'headers', 'subject', 'date', 'message_id', 'parsed_date', 'flags'])\n"
     ]
    }
   ],
   "source": [
    "print(rawmail.keys())\n",
    "\n",
    "# print(rawmail.subject)\n",
    "# print(rawmail.date)\n",
    "# print(rawmail.parsed_date)"
   ]
  },
  {
   "cell_type": "code",
   "execution_count": 217,
   "metadata": {},
   "outputs": [],
   "source": [
    "# print(rawmail.body)\n",
    "# print(rawmail.body['plain'])\n",
    "# print(rawmail.body['html'])"
   ]
  },
  {
   "cell_type": "code",
   "execution_count": 218,
   "metadata": {},
   "outputs": [],
   "source": [
    "downloadfolder = \"C:\\\\Users\\\\stars\\\\OneDrive\\\\DigitalPioneers\\\\Educations\\\\Adults\\\\Python In Finance\\\\pythoninfinance\\\\Introduction\\\\tianshan-material\\\\dataretrieval\\\\codesnippet\\\\emailattachments\\\\\"\n",
    "att = rawmail.attachments[0]\n",
    "att_filename = att.get('filename')"
   ]
  },
  {
   "cell_type": "code",
   "execution_count": 219,
   "metadata": {},
   "outputs": [
    {
     "data": {
      "text/plain": [
       "'C:\\\\Users\\\\stars\\\\OneDrive\\\\DigitalPioneers\\\\Educations\\\\Adults\\\\Python In Finance\\\\pythoninfinance\\\\Introduction\\\\tianshan-material\\\\dataretrieval\\\\codesnippet\\\\emailattachments\\\\account1.csv'"
      ]
     },
     "execution_count": 219,
     "metadata": {},
     "output_type": "execute_result"
    }
   ],
   "source": [
    "downloadpath = downloadfolder + att_filename\n",
    "downloadpath"
   ]
  },
  {
   "cell_type": "code",
   "execution_count": 220,
   "metadata": {},
   "outputs": [],
   "source": [
    "with open(downloadpath, \"wb\") as fp:\n",
    "    fp.write(att.get('content').read())"
   ]
  },
  {
   "cell_type": "code",
   "execution_count": null,
   "metadata": {},
   "outputs": [],
   "source": []
  }
 ],
 "metadata": {
  "kernelspec": {
   "display_name": "Python 3",
   "language": "python",
   "name": "python3"
  },
  "language_info": {
   "codemirror_mode": {
    "name": "ipython",
    "version": 3
   },
   "file_extension": ".py",
   "mimetype": "text/x-python",
   "name": "python",
   "nbconvert_exporter": "python",
   "pygments_lexer": "ipython3",
   "version": "3.8.5"
  }
 },
 "nbformat": 4,
 "nbformat_minor": 4
}
