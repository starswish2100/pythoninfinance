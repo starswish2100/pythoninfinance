{
 "cells": [
  {
   "cell_type": "markdown",
   "metadata": {},
   "source": [
    "## Read a file"
   ]
  },
  {
   "cell_type": "code",
   "execution_count": null,
   "metadata": {},
   "outputs": [],
   "source": [
    "f = open('inputFile.txt', 'r')"
   ]
  },
  {
   "cell_type": "code",
   "execution_count": null,
   "metadata": {},
   "outputs": [],
   "source": [
    "print (f.read())"
   ]
  },
  {
   "cell_type": "code",
   "execution_count": null,
   "metadata": {},
   "outputs": [],
   "source": [
    "f.close()"
   ]
  },
  {
   "cell_type": "markdown",
   "metadata": {},
   "source": [
    "Print the information for the people who has passed the test.\n",
    "To do this, we need to interate through the file line by line \n",
    "and check for the each instance of the P or F tag"
   ]
  },
  {
   "cell_type": "code",
   "execution_count": null,
   "metadata": {},
   "outputs": [],
   "source": [
    "f = open('inputFile.txt', 'r')\n",
    "count = 0 \n",
    "for line in f:\n",
    "    print (str(count) + line)\n",
    "    count = count + 1\n",
    "f.close()"
   ]
  },
  {
   "cell_type": "code",
   "execution_count": null,
   "metadata": {},
   "outputs": [],
   "source": [
    "# Split every line using dot-split function \n",
    "# Check for the third item\n",
    "\n",
    "f = open('inputFile.txt', 'r')\n",
    "for line in f:\n",
    "    line_split = line.split()\n",
    "    if line_split[2] == 'P':\n",
    "        print(line)\n",
    "\n",
    "f.close()"
   ]
  },
  {
   "cell_type": "markdown",
   "metadata": {},
   "source": [
    "## Write a File"
   ]
  },
  {
   "cell_type": "code",
   "execution_count": null,
   "metadata": {},
   "outputs": [],
   "source": [
    "# Create a new file called PassFile.txt and pass 'w' as second parameter\n",
    "\n",
    "f = open('inputFile.txt', 'r')\n",
    "passFile = open('PassFile.txt', 'w')\n",
    "for line in f:\n",
    "    line_split = line.split()\n",
    "    if line_split[2] == 'P':\n",
    "        #print(line)\n",
    "        passFile.write(line)\n",
    "\n",
    "f.close()\n",
    "# Flust and cloe the IO object\n",
    "passFile.close()"
   ]
  },
  {
   "cell_type": "code",
   "execution_count": null,
   "metadata": {},
   "outputs": [],
   "source": [
    "# Create failFile for the failed cases\n",
    "\n",
    "f = open('inputFile.txt', 'r')\n",
    "passFile = open('PassFile.txt', 'w')\n",
    "failFile = open('FailFile.txt', 'w')\n",
    "for line in f:\n",
    "    line_split = line.split()\n",
    "    if line_split[2] == 'P':\n",
    "        #print(line)\n",
    "        passFile.write(line)\n",
    "    else:\n",
    "        failFile.write(line)\n",
    "f.close()\n",
    "# Flust and cloe the IO object\n",
    "passFile.close()\n",
    "failFile.close()"
   ]
  }
 ],
 "metadata": {
  "kernelspec": {
   "display_name": "Python 3",
   "language": "python",
   "name": "python3"
  },
  "language_info": {
   "codemirror_mode": {
    "name": "ipython",
    "version": 3
   },
   "file_extension": ".py",
   "mimetype": "text/x-python",
   "name": "python",
   "nbconvert_exporter": "python",
   "pygments_lexer": "ipython3",
   "version": "3.8.3"
  }
 },
 "nbformat": 4,
 "nbformat_minor": 4
}
