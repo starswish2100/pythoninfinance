{
 "cells": [
  {
   "cell_type": "code",
   "execution_count": 1,
   "metadata": {},
   "outputs": [],
   "source": [
    "# [Steps to solve the APE task]\n",
    "# load rowdata and datalive 2 spreadsheets to python memory\n",
    "# make a copy of datalive - datalive_update because we will update it by operations\n",
    "# generate a list of policy numbers for per rowdata and datalive\n",
    "# find new policy numbers, which exist in rawdata but not in datalive \n",
    "# remove all empty rows in datalive_update\n",
    "# add new policy numbers as new rows in datalive_update\n",
    "# remove all empty dolumns in datalive_update\n",
    "# populate 2020-05-01 column in datalive_update table by Premium value in rowdata table, and the matching fields are policy number and time\n",
    "# for those new added rows, populate 2019-10-01 column in datalive_update table by Premium value in rowdata table, and the matching fields are policy number and time equal to 2019-10-01\n",
    "# do the same for 2019-11-01, 2019-12-01, 2020-01-01, 2020-02-01, 2020-03-01, 2020-04-01\n",
    "# for each policy in datalive, if payments < 4 then set Freq to 'ASP'\n",
    "# for each policy in datalive, if payments >= 4 and all payments are the same then set Freq to 'M'\n",
    "# for each policy in datalive, if payments >=4 but all payments are not the same then mark 'Check SP' as 'Yes'"
   ]
  },
  {
   "cell_type": "code",
   "execution_count": 2,
   "metadata": {},
   "outputs": [],
   "source": [
    "import pandas as pd\n",
    "import numpy as np\n",
    "%matplotlib inline"
   ]
  },
  {
   "cell_type": "code",
   "execution_count": 3,
   "metadata": {},
   "outputs": [],
   "source": [
    "# load rowdata and datalive 2 spreadsheets to python memory\n",
    "rowdata = pd.read_excel('../sampledata/APESample.xlsx', sheet_name='Raw data')\n",
    "datalive = pd.read_excel('../sampledata/APESample.xlsx', sheet_name='Data live')\n",
    "\n",
    "# make a copy of datalive - datalive_update because we will update it by operations\n",
    "datalive_update = datalive.copy()"
   ]
  },
  {
   "cell_type": "code",
   "execution_count": 4,
   "metadata": {},
   "outputs": [],
   "source": [
    "# generate a list of policy numbers for per rowdata and datalive\n",
    "rowdata_policynolist = rowdata['Policy Nr'].values.tolist()\n",
    "datalive_policynolist = datalive['Policy Number'].values.tolist()\n",
    "\n",
    "rowdata_policynolist_distinct = list(set(rowdata_policynolist))\n",
    "datalive_policynolist_distinct = list(set(datalive_policynolist))\n",
    "\n",
    "# find new policy numbers, which exist in rawdata but not in datalive \n",
    "newpolicynolist = np.setdiff1d(rowdata_policynolist_distinct,datalive_policynolist_distinct).tolist()\n",
    "\n",
    "# remove all empty rows in datalive_update\n",
    "datalive_update = datalive_update[datalive_update['Policy Number'].isnull() != True]\n",
    "\n",
    "# add new policy numbers as new rows in datalive_update\n",
    "for p in newpolicynolist:\n",
    "    datalive_update = datalive_update.append({'Policy Number': p, 'Freq': 'ASP'}, ignore_index=True)\n",
    "\n",
    "# remove all empty dolumns in datalive_update\n",
    "datalive_update = datalive_update.iloc[:, 0:25]"
   ]
  },
  {
   "cell_type": "code",
   "execution_count": 5,
   "metadata": {},
   "outputs": [],
   "source": [
    "# populate 2020-05-01 column in datalive_update table by Premium value in rowdata table, \n",
    "# and the matching fields are policy number and time equal to 2020-05-01\n",
    "for index in datalive_update.index:    \n",
    "    policyno = datalive_update.loc[index]['Policy Number']    \n",
    "    premium = rowdata.loc[(rowdata['Policy Nr'] == policyno) & (rowdata['time'] == '2020-05-01')]['Premium']\n",
    "    if len(premium.values) > 0:\n",
    "        datalive_update.iloc[index,11] = premium.values[0]\n"
   ]
  },
  {
   "cell_type": "code",
   "execution_count": 6,
   "metadata": {},
   "outputs": [],
   "source": [
    "# for those new added rows, populate 2019-10-01 and other date columns in datalive_update table by Premium value in rowdata table, \n",
    "# and the matching fields are policy number and time\n",
    "for policyno in newpolicynolist:\n",
    "    premium = rowdata.loc[(rowdata['Policy Nr'] == policyno) & (rowdata['time'] == '2019-10-01')]['Premium']\n",
    "    if len(premium.values) > 0:\n",
    "        datalive_update.loc[datalive_update['Policy Number'] == policyno, 4] = premium.values[0]\n",
    "        \n",
    "    premium = rowdata.loc[(rowdata['Policy Nr'] == policyno) & (rowdata['time'] == '2019-11-01')]['Premium']\n",
    "    if len(premium.values) > 0:\n",
    "        datalive_update.loc[datalive_update['Policy Number'] == policyno, 5] = premium.values[0]\n",
    "        \n",
    "    premium = rowdata.loc[(rowdata['Policy Nr'] == policyno) & (rowdata['time'] == '2019-12-01')]['Premium']\n",
    "    if len(premium.values) > 0:\n",
    "        datalive_update.loc[datalive_update['Policy Number'] == policyno, 6] = premium.values[0]\n",
    "        \n",
    "    premium = rowdata.loc[(rowdata['Policy Nr'] == policyno) & (rowdata['time'] == '2020-01-01')]['Premium']\n",
    "    if len(premium.values) > 0:\n",
    "        datalive_update.loc[datalive_update['Policy Number'] == policyno, 7] = premium.values[0]\n",
    "        \n",
    "    premium = rowdata.loc[(rowdata['Policy Nr'] == policyno) & (rowdata['time'] == '2020-02-01')]['Premium']\n",
    "    if len(premium.values) > 0:\n",
    "        datalive_update.loc[datalive_update['Policy Number'] == policyno, 8] = premium.values[0]\n",
    "        \n",
    "    premium = rowdata.loc[(rowdata['Policy Nr'] == policyno) & (rowdata['time'] == '2020-03-01')]['Premium']\n",
    "    if len(premium.values) > 0:\n",
    "        datalive_update.loc[datalive_update['Policy Number'] == policyno, 9] = premium.values[0]\n",
    "        \n",
    "    premium = rowdata.loc[(rowdata['Policy Nr'] == policyno) & (rowdata['time'] == '2020-04-01')]['Premium']\n",
    "    if len(premium.values) > 0:\n",
    "        datalive_update.loc[datalive_update['Policy Number'] == policyno, 10] = premium.values[0]\n",
    "        \n"
   ]
  },
  {
   "cell_type": "code",
   "execution_count": 8,
   "metadata": {},
   "outputs": [],
   "source": [
    "for index in datalive_update.index:\n",
    "    try:        \n",
    "        payments = datalive_update.iloc[index, 4:11].tolist()\n",
    "        numberofpayments = [float(payment) for payment in payments if (isinstance(payment, float) or isinstance(payment, int)) and str(payment) != 'nan']\n",
    "        paymentamounts = list(set(numberofpayments))\n",
    "        # for each policy in datalive, if payments >= 4 and all payments are the same then set Freq to M\n",
    "        if len(numberofpayments) > 3 and len(paymentamounts) == 1 and datalive_update.loc[index, 'Freq'] != 'M':\n",
    "            datalive_update.loc[index, 'Freq'] = 'M'            \n",
    "        # for each policy in datalive, if payments >=4 but all payments are not the same then mark 'Check SP' as 'Yes'\n",
    "        elif len(numberofpayments) > 3 and len(paymentamounts) > 1:\n",
    "            datalive_update.loc[index, 'Check SP'] = 'Yes'\n",
    "        else:\n",
    "            pass\n",
    "    except:\n",
    "        print('Err: ', datalive_update.loc[index, 'Policy Number'])\n",
    "        \n",
    "# for each row in datalive 'Check SP' as 'Yes', highlight the row as yellow\n",
    "# df.style.apply(lambda x: ['background: lightblue' if x.name in [1,3] else '' for i in x], axis=1)\n",
    "#datalive_update.style.apply(lambda x: ['background: lightgreen' if x.name in [1] else '' for i in x], axis=1).to_excel('datalive_update.xlsx', sheet_name = 'Data live', index = False)\n",
    "# datalive_update.style.apply(lambda x: ['background-color: yellow' if x == 'Check' else '' for x in datalive_update['Check SP']], axis = 0)"
   ]
  }
 ],
 "metadata": {
  "kernelspec": {
   "display_name": "Python 3",
   "language": "python",
   "name": "python3"
  },
  "language_info": {
   "codemirror_mode": {
    "name": "ipython",
    "version": 3
   },
   "file_extension": ".py",
   "mimetype": "text/x-python",
   "name": "python",
   "nbconvert_exporter": "python",
   "pygments_lexer": "ipython3",
   "version": "3.7.6"
  }
 },
 "nbformat": 4,
 "nbformat_minor": 4
}
