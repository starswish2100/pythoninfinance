{
 "cells": [
  {
   "cell_type": "code",
   "execution_count": 1,
   "metadata": {},
   "outputs": [],
   "source": [
    "import mysql.connector as connector"
   ]
  },
  {
   "cell_type": "code",
   "execution_count": 2,
   "metadata": {},
   "outputs": [
    {
     "name": "stdout",
     "output_type": "stream",
     "text": [
      "<mysql.connector.connection_cext.CMySQLConnection object at 0x0000017BEB909FD0>\n"
     ]
    }
   ],
   "source": [
    "db = connector.connect(\n",
    "    host = \"localhost\",\n",
    "    user = \"root\",\n",
    "    password = \"tianshan\",\n",
    "    db = \"demo\"    \n",
    ")\n",
    "\n",
    "print(db)"
   ]
  },
  {
   "cell_type": "code",
   "execution_count": 3,
   "metadata": {},
   "outputs": [],
   "source": [
    "cursor = db.cursor();"
   ]
  },
  {
   "cell_type": "code",
   "execution_count": 4,
   "metadata": {},
   "outputs": [
    {
     "name": "stdout",
     "output_type": "stream",
     "text": [
      "[('Foreign Exchange & Rates', 'FX & Rates CVA', 'Credit Spread Delta', '2020-12-01', Decimal('-178139'), None, None), ('Foreign Exchange & Rates', 'FX & Rates CVA', 'Credit Spread Delta', '2020-12-02', Decimal('-175165'), None, None), ('Foreign Exchange & Rates', 'FX & Rates CVA', 'FX Delta', '2020-12-01', Decimal('-43792397'), None, None), ('Foreign Exchange & Rates', 'FX & Rates CVA', 'FX Delta', '2020-12-02', Decimal('-40384416'), None, None), ('Foreign Exchange & Rates', 'FX & Rates CVA', 'FX Vega', '2020-12-01', Decimal('-1213833'), None, None), ('Foreign Exchange & Rates', 'FX & Rates CVA', 'FX Vega', '2020-12-02', Decimal('-1217080'), None, None), ('Foreign Exchange & Rates', 'FX & Rates CVA', 'Interest Rate Delta', '2020-12-01', Decimal('38748'), None, None), ('Foreign Exchange & Rates', 'FX & Rates CVA', 'Interest Rate Delta', '2020-12-02', Decimal('50559'), None, None), ('Foreign Exchange & Rates', 'FX Business', 'FX Delta', '2020-12-01', Decimal('167381'), None, None), ('Foreign Exchange & Rates', 'FX Business', 'FX Delta', '2020-12-02', Decimal('-212888'), None, None), ('Foreign Exchange & Rates', 'FX Business', 'Interest Rate Delta', '2020-12-01', Decimal('-7386'), None, None), ('Foreign Exchange & Rates', 'FX Business', 'Interest Rate Delta', '2020-12-02', Decimal('17219'), None, None), ('Foreign Exchange & Rates', 'Rates Business', 'Credit Spread Delta', '2020-12-01', Decimal('380657'), None, None), ('Foreign Exchange & Rates', 'Rates Business', 'Credit Spread Delta', '2020-12-02', Decimal('314125'), None, None), ('Foreign Exchange & Rates', 'Rates Business', 'Interest Rate Delta', '2020-12-01', None, None, None), ('Foreign Exchange & Rates', 'Rates Business', 'Interest Rate Delta', '2020-12-02', None, None, None), ('Loan Trading', 'Loan Trading', 'Credit Spread Delta', '2020-12-01', Decimal('-49849'), None, None), ('Loan Trading', 'Loan Trading', 'Credit Spread Delta', '2020-12-02', Decimal('-43260'), None, None), ('Loan Trading', 'Loan Trading', 'FX Delta', '2020-12-01', Decimal('-13626509'), None, None), ('Loan Trading', 'Loan Trading', 'FX Delta', '2020-12-02', Decimal('-11586819'), None, None)]\n"
     ]
    }
   ],
   "source": [
    "query = \"SELECT `Business Level 2`, `Business Sub Level 3`, `Risk Type`,`Date`,sum(Exposure) as `Exposure Sum`, null as 'Difference', null as 'Alert' FROM demo.bankdata group by `Business Level 2`, `Business Sub Level 3`, `Risk Type`, `Date` order by `Business Level 2`, `Business Sub Level 3`, `Risk Type`, `Date`;\"\n",
    "cursor.execute(query)\n",
    "print(cursor.fetchall())"
   ]
  },
  {
   "cell_type": "code",
   "execution_count": null,
   "metadata": {},
   "outputs": [],
   "source": []
  }
 ],
 "metadata": {
  "kernelspec": {
   "display_name": "Python 3",
   "language": "python",
   "name": "python3"
  },
  "language_info": {
   "codemirror_mode": {
    "name": "ipython",
    "version": 3
   },
   "file_extension": ".py",
   "mimetype": "text/x-python",
   "name": "python",
   "nbconvert_exporter": "python",
   "pygments_lexer": "ipython3",
   "version": "3.8.5"
  }
 },
 "nbformat": 4,
 "nbformat_minor": 4
}
